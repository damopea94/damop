{
  "nbformat": 4,
  "nbformat_minor": 0,
  "metadata": {
    "colab": {
      "name": "Assignment 3",
      "provenance": [],
      "collapsed_sections": [],
      "authorship_tag": "ABX9TyOAy5Z5ef1I1MdB2ncwr0lO",
      "include_colab_link": true
    },
    "kernelspec": {
      "name": "python3",
      "display_name": "Python 3"
    }
  },
  "cells": [
    {
      "cell_type": "markdown",
      "metadata": {
        "id": "view-in-github",
        "colab_type": "text"
      },
      "source": [
        "<a href=\"https://colab.research.google.com/github/damopea94/damop/blob/master/Assignment_3.ipynb\" target=\"_parent\"><img src=\"https://colab.research.google.com/assets/colab-badge.svg\" alt=\"Open In Colab\"/></a>"
      ]
    },
    {
      "cell_type": "code",
      "metadata": {
        "id": "XuqT2mnycrHU",
        "colab_type": "code",
        "outputId": "63ccb7cf-5cf0-48b6-bd95-9b23b400b160",
        "colab": {
          "base_uri": "https://localhost:8080/",
          "height": 51
        }
      },
      "source": [
        "num= int(input(\"Enter a number\"))\n",
        "if num ==0:\n",
        "  print('Sunday')\n",
        "elif num == 1:\n",
        "  print('Monday')\n",
        "elif num== 2:\n",
        "  print('Tuesday')\n",
        "elif num == 3:\n",
        "  print('Wednesday')\n",
        "elif num== 4:\n",
        "  print('Thursday')\n",
        "elif num ==5:\n",
        "  print('Friday')\n",
        "elif num== 6:\n",
        "  print('Saturday')\n",
        "else:\n",
        " print('invalid number')\n"
      ],
      "execution_count": 0,
      "outputs": [
        {
          "output_type": "stream",
          "text": [
            "Enter a number4\n",
            "Thursday\n"
          ],
          "name": "stdout"
        }
      ]
    },
    {
      "cell_type": "code",
      "metadata": {
        "id": "TnUyXBcykIRW",
        "colab_type": "code",
        "outputId": "30287194-c8c2-4190-e942-92473634e192",
        "colab": {
          "base_uri": "https://localhost:8080/",
          "height": 85
        }
      },
      "source": [
        "from math import sqrt\n",
        "print(\"Input lengths of shorter triangle sides:\")\n",
        "a = float(input(\"a: \"))\n",
        "b = float(input(\"b: \"))\n",
        "\n",
        "c = sqrt(a**2 + b**2)\n",
        "print(\"The length of the hypotenuse is\",c )\n"
      ],
      "execution_count": 0,
      "outputs": [
        {
          "output_type": "stream",
          "text": [
            "Input lengths of shorter triangle sides:\n",
            "a: 3\n",
            "b: 4\n",
            "The length of the hypotenuse is 5.0\n"
          ],
          "name": "stdout"
        }
      ]
    },
    {
      "cell_type": "code",
      "metadata": {
        "id": "Y0s6Hor2mzph",
        "colab_type": "code",
        "outputId": "808cccc6-8c7b-44ca-a921-09a099b45ba6",
        "colab": {
          "base_uri": "https://localhost:8080/",
          "height": 85
        }
      },
      "source": [
        "print(\"input lengths of triangle,:\")\n",
        "a = float(input(\"a: \"))\n",
        "b = float(input(\"b: \"))\n",
        "c = float(input(\"c: \"))\n",
        "def isright_angled():\n",
        "    if abs((a**2+b**2)-(c**2)) < 0.1 or abs((c**2-a**2)-(b**2)) < 0.1 or abs((c**2-b**2)-(a**2)) < 0.1:                         \n",
        "        return True\n",
        "    else:\n",
        "        return False\n",
        "\n"
      ],
      "execution_count": 0,
      "outputs": [
        {
          "output_type": "stream",
          "text": [
            "input lengths of triangle,:\n",
            "a: 3\n",
            "b: 3\n",
            "c: 4\n"
          ],
          "name": "stdout"
        }
      ]
    },
    {
      "cell_type": "code",
      "metadata": {
        "id": "xYii3ilFwGg6",
        "colab_type": "code",
        "outputId": "20125c72-dd5c-49fc-fc59-a6e5d97f7497",
        "colab": {
          "base_uri": "https://localhost:8080/",
          "height": 221
        }
      },
      "source": [
        "for Month in [\"January\",\"Febuary\",\"March\",\"April\",\"May\",\"June\",\"July\",\"August\",\"September\",\"October\",\"November\",\"Decemebr\"]:\n",
        "  Sentence= \"One of the months of the year \" + Month\n",
        "  print(Sentence)"
      ],
      "execution_count": 0,
      "outputs": [
        {
          "output_type": "stream",
          "text": [
            "One of the months of the year January\n",
            "One of the months of the year Febuary\n",
            "One of the months of the year March\n",
            "One of the months of the year April\n",
            "One of the months of the year May\n",
            "One of the months of the year June\n",
            "One of the months of the year July\n",
            "One of the months of the year August\n",
            "One of the months of the year September\n",
            "One of the months of the year October\n",
            "One of the months of the year November\n",
            "One of the months of the year Decemebr\n"
          ],
          "name": "stdout"
        }
      ]
    },
    {
      "cell_type": "code",
      "metadata": {
        "id": "KAJM5udKrNii",
        "colab_type": "code",
        "outputId": "fe6275bf-3e7c-4949-de04-dcb05acc940c",
        "colab": {
          "base_uri": "https://localhost:8080/",
          "height": 51
        }
      },
      "source": [
        " numbers_list = [12,10,32,3,66,17,42,99,20]\n",
        "numbers_total = 0\n",
        "for num in numbers_list:\n",
        "    numbers_total += num\n",
        "print(numbers_total)\n",
        "import numpy as np\n",
        " numbers_list = [12,10,32,3,66,17,42,99,20]\n",
        "result = np.prod(np.array(numbers_list))  \n",
        "print(result)\n"
      ],
      "execution_count": 0,
      "outputs": [
        {
          "output_type": "stream",
          "text": [
            "301\n",
            "1074879590400\n"
          ],
          "name": "stdout"
        }
      ]
    },
    {
      "cell_type": "code",
      "metadata": {
        "id": "NJfB6_8fkNcL",
        "colab_type": "code",
        "outputId": "b6435cae-b9b2-42ca-d2bd-47bdf0278f82",
        "colab": {
          "base_uri": "https://localhost:8080/",
          "height": 85
        }
      },
      "source": [
        "def countEvenOdd(n): \n",
        "      \n",
        "    even_count = 0\n",
        "    odd_count = 0\n",
        "    while (n > 0): \n",
        "        rem = n % 10\n",
        "        if (rem % 2 == 0): \n",
        "            even_count += 1\n",
        "        else: \n",
        "            odd_count += 1\n",
        "              \n",
        "        n = int(n / 10) \n",
        "      \n",
        "    print( \"Even count : \" , even_count) \n",
        "    print(\"\\nOdd count : \" , odd_count) \n",
        "    if (even_count % 2 == 0 and\n",
        "                    odd_count % 2 != 0): \n",
        "        return 1\n",
        "    else: \n",
        "        return 0\n",
        "  \n",
        "# Drive code \n",
        "n = 2335453; \n",
        "t = countEvenOdd(n); \n",
        "  \n",
        "if (t == 1): \n",
        "    print(\"YES\") \n",
        "else: \n",
        "    print(\"NO\") \n",
        "  "
      ],
      "execution_count": 0,
      "outputs": [
        {
          "output_type": "stream",
          "text": [
            "Even count :  2\n",
            "\n",
            "Odd count :  5\n",
            "YES\n"
          ],
          "name": "stdout"
        }
      ]
    },
    {
      "cell_type": "code",
      "metadata": {
        "id": "WOL6pnPC0axo",
        "colab_type": "code",
        "outputId": "ce7dbe07-44a3-496a-af38-bcc411f9ee0d",
        "colab": {
          "base_uri": "https://localhost:8080/",
          "height": 34
        }
      },
      "source": [
        "count_even = 0\n",
        "\n",
        "for num in range(1, 1001):\n",
        "    if num % 2 == 0:\n",
        "        count_even += 1\n",
        "\n",
        "print(\"Number of even numbers from 1 to 1000 is\", count_even)"
      ],
      "execution_count": 0,
      "outputs": [
        {
          "output_type": "stream",
          "text": [
            "Number of even numbers from 1 to 1000 is 500\n"
          ],
          "name": "stdout"
        }
      ]
    },
    {
      "cell_type": "code",
      "metadata": {
        "id": "Ph-6Vy69Vya3",
        "colab_type": "code",
        "colab": {}
      },
      "source": [
        "import turtle\n",
        "window=turtle.Screen()\n",
        "window.bgcolor(\"lightgreen\")\n",
        "\n",
        "one = turtle.Turtle()\n",
        "\n",
        "one.speed(0)\n",
        "\n",
        "angls = [160, -43, 270, -97, -43, 200, -940, 17, -86]\n",
        "\n",
        "for a in angls:\n",
        "\n",
        "    one.fd(100)\n",
        "\n",
        "    one.lt(a)\n",
        "\n",
        "one.fd(100)\n"
      ],
      "execution_count": 0,
      "outputs": []
    },
    {
      "cell_type": "code",
      "metadata": {
        "id": "QDhcb7dTwazU",
        "colab_type": "code",
        "colab": {}
      },
      "source": [
        "import turtle\n",
        "window=turtle.Screen()\n",
        "window.bgcolor(\"lightgreen\")\n",
        "wn = turtle.Screen()\n",
        "\n",
        "t = turtle.Turtle()\n",
        "\n",
        "for i in range(3):\n",
        "\n",
        "    t.forward(100)\n",
        "    t.left(120)"
      ],
      "execution_count": 0,
      "outputs": []
    },
    {
      "cell_type": "code",
      "metadata": {
        "id": "K14Dt92ZxClk",
        "colab_type": "code",
        "colab": {}
      },
      "source": [
        "import turtle\n",
        "window=turtle.Screen()\n",
        "window.bgcolor(\"green\")\n",
        "wn = turtle.Screen()\n",
        "\n",
        "t = turtle.Turtle()\n",
        "\n",
        "for i in range(6):\n",
        "\n",
        "    t.forward(100)\n",
        "\n",
        "    t.left(360/6)"
      ],
      "execution_count": 0,
      "outputs": []
    },
    {
      "cell_type": "code",
      "metadata": {
        "id": "AtkvISxJwcgM",
        "colab_type": "code",
        "colab": {}
      },
      "source": [
        ""
      ],
      "execution_count": 0,
      "outputs": []
    }
  ]
}