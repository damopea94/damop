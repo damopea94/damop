{
  "nbformat": 4,
  "nbformat_minor": 0,
  "metadata": {
    "colab": {
      "name": "Assignment 6",
      "provenance": [],
      "authorship_tag": "ABX9TyOQ5yc0jmSv8f5oGeLeaPHQ",
      "include_colab_link": true
    },
    "kernelspec": {
      "name": "python3",
      "display_name": "Python 3"
    }
  },
  "cells": [
    {
      "cell_type": "markdown",
      "metadata": {
        "id": "view-in-github",
        "colab_type": "text"
      },
      "source": [
        "<a href=\"https://colab.research.google.com/github/damopea94/damop/blob/master/Assignment_6.ipynb\" target=\"_parent\"><img src=\"https://colab.research.google.com/assets/colab-badge.svg\" alt=\"Open In Colab\"/></a>"
      ]
    },
    {
      "cell_type": "code",
      "metadata": {
        "id": "jW5Q7WhzT3j9",
        "colab_type": "code",
        "colab": {
          "base_uri": "https://localhost:8080/",
          "height": 85
        },
        "outputId": "69a784a9-ed07-4e26-d683-7d98e2068176"
      },
      "source": [
        "import numpy as np #import numpy library for array creation\n",
        "\n",
        "def write_into_file(file_to_write):       #Function to write several number into txt file\n",
        "   file = open(file_to_write,'w')\n",
        "   file.write(\"10 20 30 40 50 110 120 130 140 150 160\")\n",
        "   file.close()\n",
        "   print(\"Several numbers were successfully written into file\") #prompt for user convinence\n",
        "\n",
        "def read_from_file(file_to_read,file_to_write):\n",
        "   file1= open(file_to_read,'r')   #Function to read and write masked value to another txt file\n",
        "   file2 = open(file_to_write,'w')\n",
        "   str=file1.readline()       #Reading from the txt file\n",
        "   data=str.split()\n",
        "   data=list(map(int,data))   #using map to convert the list into integers\n",
        "   array = np.array(data)       #Created an numpy array\n",
        "   mask = (array >= 100)       #Created a mask with condition\n",
        "   str = np.array2string(array[mask])   #coverting the masked values into string\n",
        "   for i in range(1,len(str)-1):\n",
        "       file2.write(str[i])       #Writing the value into the new file\n",
        "   file1.close()\n",
        "   file2.close()               #Closing the file\n",
        "   print(\"The Masked values were successfully written into new file\") #prompt for user convinence\n",
        "\n",
        "\n",
        "file1=input(\"Enter the Name of first file:\")\n",
        "file2=input(\"Enter the Name of second file:\")\n",
        "write_into_file(file1)\n",
        "read_from_file(file1,file2)\n",
        "   "
      ],
      "execution_count": 1,
      "outputs": [
        {
          "output_type": "stream",
          "text": [
            "Enter the Name of first file:10 20 30 40 50 110 120 130 140 150 160\n",
            "Enter the Name of second file:110 120 130 140 150 160 \n",
            "Several numbers were successfully written into file\n",
            "The Masked values were successfully written into new file\n"
          ],
          "name": "stdout"
        }
      ]
    },
    {
      "cell_type": "code",
      "metadata": {
        "id": "7AS3vbEbUUcO",
        "colab_type": "code",
        "colab": {
          "base_uri": "https://localhost:8080/",
          "height": 34
        },
        "outputId": "adf9383f-a076-4e58-a98f-6e223763f541"
      },
      "source": [
        "import random \n",
        "def write_to_file():\n",
        "    file= open(\"student.txt\",\"w\")\n",
        "\n",
        "    for record in student_list:\n",
        "        file.write(record[0])\n",
        "        file.write(\" \")\n",
        "        file.write(str(record[1]))\n",
        "        file.write(\"\\n\")\n",
        "\n",
        "    file.close()\n",
        "\n",
        "# read function which randomly prints one record.\n",
        "def read_data():\n",
        "    file_read= open(\"student.txt\", \"r\")\n",
        "    data=file_read.read().splitlines()\n",
        "    myline =random.choice(data)\n",
        "    print(myline)\n",
        "\n",
        "# list of 10 students\n",
        "student_list=[ (\"John\",1), (\"adam\",2), (\"neha\",3), (\"sam\",4), (\"nikhil\",5),\n",
        "(\"jack\",6), (\"harry\",7), (\"charlie\",8), (\"thomas\",9), (\"James\",10)]\n",
        "\n",
        "# call to write function\n",
        "write_to_file()\n",
        "# call to read function\n",
        "read_data()"
      ],
      "execution_count": 9,
      "outputs": [
        {
          "output_type": "stream",
          "text": [
            "John 1\n"
          ],
          "name": "stdout"
        }
      ]
    }
  ]
}