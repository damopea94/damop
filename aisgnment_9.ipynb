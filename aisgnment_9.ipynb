{
  "nbformat": 4,
  "nbformat_minor": 0,
  "metadata": {
    "colab": {
      "name": "aisgnment 9",
      "provenance": [],
      "authorship_tag": "ABX9TyPgtVQDIfeYqbT6vZB1zwKF",
      "include_colab_link": true
    },
    "kernelspec": {
      "name": "python3",
      "display_name": "Python 3"
    }
  },
  "cells": [
    {
      "cell_type": "markdown",
      "metadata": {
        "id": "view-in-github",
        "colab_type": "text"
      },
      "source": [
        "<a href=\"https://colab.research.google.com/github/damopea94/damop/blob/master/aisgnment_9.ipynb\" target=\"_parent\"><img src=\"https://colab.research.google.com/assets/colab-badge.svg\" alt=\"Open In Colab\"/></a>"
      ]
    },
    {
      "cell_type": "code",
      "metadata": {
        "id": "hltcBC-0n645",
        "colab_type": "code",
        "colab": {
          "base_uri": "https://localhost:8080/",
          "height": 119
        },
        "outputId": "e40d6410-80d4-463a-8be2-134ee35ea848"
      },
      "source": [
        "def main():\n",
        "\n",
        "  try:\n",
        "\n",
        "    posInt = int(input(\"Enter a positive integer : \"))\n",
        "\n",
        "#check for negative\n",
        "\n",
        "    if posInt < 0:\n",
        "      print(\"Value must be a positive integer.\")\n",
        "    else:\n",
        "      print(\"Entered positive value : \",posInt)\n",
        "\n",
        "  except ValueError:\n",
        "    print(\"Value must be a integer.\")\n",
        "\n",
        "main()\n",
        "\n",
        "main()\n",
        "\n",
        "main()    "
      ],
      "execution_count": 1,
      "outputs": [
        {
          "output_type": "stream",
          "text": [
            "Enter a positive integer : asdf\n",
            "Value must be a integer.\n",
            "Enter a positive integer : 3\n",
            "Entered positive value :  3\n",
            "Enter a positive integer : 4\n",
            "Entered positive value :  4\n"
          ],
          "name": "stdout"
        }
      ]
    },
    {
      "cell_type": "code",
      "metadata": {
        "id": "eZ4zxcXlreiK",
        "colab_type": "code",
        "colab": {
          "base_uri": "https://localhost:8080/",
          "height": 85
        },
        "outputId": "fef92fda-0303-414d-d427-828158bddf05"
      },
      "source": [
        " class MyTime:\n",
        "   #constructor\n",
        "   def __init__(self,hr,min,sec):\n",
        "       self.hr=hr\n",
        "       self.min=min\n",
        "       self.sec=sec\n",
        "\n",
        "   def displayTime(self):\n",
        "       return str(self.hr)+':'+str(self.min)+':'+str(self.sec)\n",
        "   #method that finds intervel minutes bettween any two times\n",
        "   def getMin(self,timeObj):\n",
        "       res = 0\n",
        "\n",
        "       #if self object has more time than passed object\n",
        "       if self.hr>timeObj.hr:\n",
        "           #find number of hours and each hour has 60 minutes\n",
        "           res = abs(self.hr - timeObj.hr)*60\n",
        "           #10:23 09:13 case\n",
        "           if self.min<timeObj.min:\n",
        "               res -= abs(self.min-timeObj.min)\n",
        "           #10:23 09:33 case\n",
        "           else:\n",
        "               res += abs(self.min-timeObj.min)\n",
        "       #if passed object has more time than self object  \n",
        "       elif timeObj.hr>self.hr:\n",
        "           #find number of hours and each hour has 60 minutes\n",
        "           res = abs(self.hr - timeObj.hr)*60\n",
        "           #9:13 10:23 case\n",
        "           if timeObj.min<self.min:\n",
        "               res -= abs(self.min-timeObj.min)\n",
        "           #9:33 10:23 case\n",
        "           else:\n",
        "               res += abs(self.min-timeObj.min)\n",
        "       #within the same hours\n",
        "       else:\n",
        "           res = abs(self.min-timeObj.min)\n",
        "       return res\n",
        "time1 = MyTime(10,23,49)\n",
        "time2 = MyTime(9,13,49)\n",
        "time3 = MyTime(9,33,49)\n",
        "print('Intervel minutes between ',time1.displayTime(),' and ',time2.displayTime(),' is ',time1.getMin(time2),' minutes')\n",
        "print('Intervel minutes between ',time1.displayTime(),' and ',time3.displayTime(),' is ',time1.getMin(time3),' minutes')\n",
        "print('Intervel minutes between ',time2.displayTime(),' and ',time1.displayTime(),' is ',time2.getMin(time1),' minutes')\n",
        "print('Intervel minutes between ',time3.displayTime(),' and ',time1.displayTime(),' is ',time3.getMin(time1),' minutes')"
      ],
      "execution_count": 4,
      "outputs": [
        {
          "output_type": "stream",
          "text": [
            "Intervel minutes between  10:23:49  and  9:13:49  is  70  minutes\n",
            "Intervel minutes between  10:23:49  and  9:33:49  is  50  minutes\n",
            "Intervel minutes between  9:13:49  and  10:23:49  is  70  minutes\n",
            "Intervel minutes between  9:33:49  and  10:23:49  is  50  minutes\n"
          ],
          "name": "stdout"
        }
      ]
    },
    {
      "cell_type": "code",
      "metadata": {
        "id": "VhKYJQKjvV-L",
        "colab_type": "code",
        "colab": {}
      },
      "source": [
        ""
      ],
      "execution_count": 0,
      "outputs": []
    }
  ]
}