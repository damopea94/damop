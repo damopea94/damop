{
  "nbformat": 4,
  "nbformat_minor": 0,
  "metadata": {
    "colab": {
      "name": "Assignment 8 ",
      "provenance": [],
      "authorship_tag": "ABX9TyMQdzp3i2c9Im62GY3yYDMT",
      "include_colab_link": true
    },
    "kernelspec": {
      "name": "python3",
      "display_name": "Python 3"
    }
  },
  "cells": [
    {
      "cell_type": "markdown",
      "metadata": {
        "id": "view-in-github",
        "colab_type": "text"
      },
      "source": [
        "<a href=\"https://colab.research.google.com/github/damopea94/damop/blob/master/Assignment_8.ipynb\" target=\"_parent\"><img src=\"https://colab.research.google.com/assets/colab-badge.svg\" alt=\"Open In Colab\"/></a>"
      ]
    },
    {
      "cell_type": "code",
      "metadata": {
        "id": "cPANNV6xiUja",
        "colab_type": "code",
        "colab": {
          "base_uri": "https://localhost:8080/",
          "height": 34
        },
        "outputId": "304c8ab4-d9b7-4cdc-d953-f693a6b2abfd"
      },
      "source": [
        "import math\n",
        "  \n",
        "# Function to calculate distance\n",
        "# accepting points as tuples\n",
        "def distance(x , y):\n",
        "  \n",
        "# Calculating distance\n",
        "    result=math.sqrt(math.pow(x[1] - x[0], 2) + math.pow(y[1] - y[0], 2))\n",
        "    return result\n",
        "  \n",
        "\n",
        "# declaring points\n",
        "a=(3,4)\n",
        "b=(4,3)\n",
        "\n",
        "print(\"%.6f\"%distance(a,b))"
      ],
      "execution_count": 2,
      "outputs": [
        {
          "output_type": "stream",
          "text": [
            "1.414214\n"
          ],
          "name": "stdout"
        }
      ]
    },
    {
      "cell_type": "code",
      "metadata": {
        "id": "cHHqvWGhkKZ_",
        "colab_type": "code",
        "colab": {
          "base_uri": "https://localhost:8080/",
          "height": 51
        },
        "outputId": "28596de4-1ce8-496a-d134-043b934d7c63"
      },
      "source": [
        "class Point:\n",
        "    def __init__(self, x, y):\n",
        "        \"\"\"\n",
        "        \n",
        "        :param x: \n",
        "        :param y: \n",
        "        \"\"\"\n",
        "        self.x = x\n",
        "        self.y = y\n",
        "\n",
        "    def reflect_x(self):\n",
        "        \"\"\"\n",
        "        This method return new point which rflection of a pint about x axis \n",
        "        :return: \n",
        "        \"\"\"\n",
        "        return Point(self.x, (-1) * self.y)\n",
        "\n",
        "    def __str__(self):\n",
        "        return \"Point(\" + str(self.x) + \",\" + str(self.y) + \")\"\n",
        "\n",
        "\n",
        "if __name__ == '__main__':\n",
        "    p = Point(3, 4)\n",
        "    p_reflect = p.reflect_x();\n",
        "    print(\"P:\", p)\n",
        "    print(\"Reflection about x axis of p:\", p_reflect)\n"
      ],
      "execution_count": 4,
      "outputs": [
        {
          "output_type": "stream",
          "text": [
            "P: Point(3,4)\n",
            "Reflection about x axis of p: Point(3,-4)\n"
          ],
          "name": "stdout"
        }
      ]
    },
    {
      "cell_type": "code",
      "metadata": {
        "id": "Aqutc0GemM0V",
        "colab_type": "code",
        "colab": {
          "base_uri": "https://localhost:8080/",
          "height": 170
        },
        "outputId": "126d0448-0918-43da-b31b-d12892d82d4b"
      },
      "source": [
        "class Rectangle:\n",
        "    def __init__(self, p, w, h):\n",
        "        self.__lower_left = p\n",
        "        self.__width = w\n",
        "        self.__height = h\n",
        "\n",
        "    def getWidth(self):\n",
        "        return self.__width\n",
        "\n",
        "    def getHeight(self):\n",
        "        return self.__height\n",
        "\n",
        "    def getStartPoint(self):\n",
        "        return self.__lower_left\n",
        "\n",
        "    def __str__(self):\n",
        "        return \"Start Point: {}, Width: {}, Height: {}\".format(str(self.__lower_left), self.__width, self.__height)\n",
        "\n",
        "    def area(self):\n",
        "        return self.__height * self.__width\n",
        "\n",
        "    def perimeter(self):\n",
        "        return 2*(self.__height + self.__width)\n",
        "\n",
        "\n",
        "r = Rectangle(Point(4, 5), 6, 5)\n",
        "print('Width: ' + str(r.getWidth()))\n",
        "print('height: ' + str(r.getHeight()))\n",
        "print('Start Point: ' + str(r.getStartPoint()))\n",
        "print(\"__str__: \" + str(r))\n",
        "print(\"\\n\\n\")\n",
        "print(\"Area: \" + str(r.area()))\n",
        "print(\"Perimeter: \" + str(r.perimeter()))"
      ],
      "execution_count": 5,
      "outputs": [
        {
          "output_type": "stream",
          "text": [
            "Width: 6\n",
            "height: 5\n",
            "Start Point: Point(4,5)\n",
            "__str__: Start Point: Point(4,5), Width: 6, Height: 5\n",
            "\n",
            "\n",
            "\n",
            "Area: 30\n",
            "Perimeter: 22\n"
          ],
          "name": "stdout"
        }
      ]
    },
    {
      "cell_type": "code",
      "metadata": {
        "id": "D_Md_-0omREO",
        "colab_type": "code",
        "colab": {}
      },
      "source": [
        ""
      ],
      "execution_count": 0,
      "outputs": []
    }
  ]
}