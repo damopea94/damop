{
  "nbformat": 4,
  "nbformat_minor": 0,
  "metadata": {
    "colab": {
      "name": "Untitled1.ipynb",
      "provenance": [],
      "authorship_tag": "ABX9TyOwDzclYMqniwck5DbrhdZ0",
      "include_colab_link": true
    },
    "kernelspec": {
      "name": "python3",
      "display_name": "Python 3"
    }
  },
  "cells": [
    {
      "cell_type": "markdown",
      "metadata": {
        "id": "view-in-github",
        "colab_type": "text"
      },
      "source": [
        "<a href=\"https://colab.research.google.com/github/damopea94/damop/blob/master/Untitled1.ipynb\" target=\"_parent\"><img src=\"https://colab.research.google.com/assets/colab-badge.svg\" alt=\"Open In Colab\"/></a>"
      ]
    },
    {
      "cell_type": "code",
      "metadata": {
        "id": "yQDQTs1oIbI6",
        "colab_type": "code",
        "colab": {
          "base_uri": "https://localhost:8080/",
          "height": 68
        },
        "outputId": "bbff348b-fded-4312-f27c-74347f3a980d"
      },
      "source": [
        "def get_extention(s):\n",
        "   res = s.split(\".\")\n",
        "   if len(res) >=2 :\n",
        "       return res[-1]\n",
        "   else:\n",
        "       return(\"In valid filename\")\n",
        "\n",
        "print(get_extention('x,txt.doc'))\n",
        "print(get_extention('bob.bob.cat.java'))\n",
        "print(get_extention('xx.txt'))\n",
        "\n"
      ],
      "execution_count": 4,
      "outputs": [
        {
          "output_type": "stream",
          "text": [
            "doc\n",
            "java\n",
            "txt\n"
          ],
          "name": "stdout"
        }
      ]
    },
    {
      "cell_type": "code",
      "metadata": {
        "id": "QmaVBVDtU43t",
        "colab_type": "code",
        "colab": {
          "base_uri": "https://localhost:8080/",
          "height": 51
        },
        "outputId": "10d3ddb3-72ed-4675-a131-75dbfeca128d"
      },
      "source": [
        "def replace(string, current, to):\n",
        "\n",
        "    result = \"\"\n",
        "\n",
        "    for char in string:\n",
        "\n",
        "        if char == current:\n",
        "\n",
        "            result += to\n",
        "\n",
        "        else:\n",
        "\n",
        "            result += char\n",
        "\n",
        "    return result\n",
        "\n",
        "\n",
        "\n",
        "sentence = \"I love spom! Spom is my favorite food, Spom, spom, yum!\"\n",
        "\n",
        "print(replace(sentence, \"o\", \"a\"))\n",
        "\n",
        "words = \"Mississippi\"\n",
        "\n",
        "print(replace(words, \"s\", \"S\"))"
      ],
      "execution_count": 25,
      "outputs": [
        {
          "output_type": "stream",
          "text": [
            "I lave spam! Spam is my favarite faad, Spam, spam, yum!\n",
            "MiSSiSSippi\n"
          ],
          "name": "stdout"
        }
      ]
    },
    {
      "cell_type": "code",
      "metadata": {
        "id": "eykT5pKYXJYj",
        "colab_type": "code",
        "colab": {}
      },
      "source": [
        ""
      ],
      "execution_count": 0,
      "outputs": []
    },
    {
      "cell_type": "code",
      "metadata": {
        "id": "SvsX9ykD_YaY",
        "colab_type": "code",
        "colab": {}
      },
      "source": [
        "import turtle\n",
        "\n",
        "#turtle object\n",
        "t = turtle.Turtle()\n",
        "\n",
        "#intital distance the turtle should draw\n",
        "d = 5\n",
        "\n",
        "#loop until turtle reaches top left corner\n",
        "while (t.xcor()>-250 and t.ycor()<250):\n",
        "\n",
        "#move downwards\n",
        "    t.seth(270)\n",
        "    t.forward(d)\n",
        "#increase distance by 5 units and move leftwards\n",
        "    d += 5\n",
        "    t.seth(180)\n",
        "    t.forward(d)\n",
        "#increase distance by 5 units and move upwards\n",
        "    d += 5\n",
        "    t.seth(90)\n",
        "    t.forward(d)\n",
        "#increase distance by 5 units and move rightwards\n",
        "    d += 5\n",
        "    t.seth(0)\n",
        "    t.forward(d)\n",
        "#increase distance by 5 units for the next loop in spiral\n",
        "    d += 5\n",
        "\n",
        "#this line is to keep the turtle from closing immediately\n",
        "x = input()"
      ],
      "execution_count": 0,
      "outputs": []
    },
    {
      "cell_type": "code",
      "metadata": {
        "id": "r6v5LxssMQGR",
        "colab_type": "code",
        "colab": {}
      },
      "source": [
        "import turtle\n",
        "\n",
        "#turtle object\n",
        "t = turtle.Turtle()\n",
        "\n",
        "#intital distance the turtle should draw\n",
        "d = 5\n",
        "\n",
        "#loop until turtle reaches top left corner\n",
        "while (t.xcor()>-250 and t.ycor()<250):\n",
        "\n",
        "#move downwards\n",
        "    t.seth(270)\n",
        "    t.forward(d)\n",
        "#increase distance by 5 units and move leftwards\n",
        "    d += 5\n",
        "    t.seth(180)\n",
        "    t.forward(d)\n",
        "#increase distance by 5 units and move upwards\n",
        "    d += 5\n",
        "    t.seth(90)\n",
        "    t.forward(d)\n",
        "#increase distance by 5 units and move rightwards\n",
        "    d += 5\n",
        "    t.seth(0)\n",
        "    t.forward(d)\n",
        "#increase distance by 5 units for the next loop in spiral\n",
        "    d += 5\n",
        "\n",
        "#this line is to keep the turtle from closing immediately\n",
        "x = input()"
      ],
      "execution_count": 0,
      "outputs": []
    }
  ]
}