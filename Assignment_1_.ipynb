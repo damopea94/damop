{
  "nbformat": 4,
  "nbformat_minor": 0,
  "metadata": {
    "colab": {
      "name": "Assignment 1 .ipynb",
      "provenance": [],
      "authorship_tag": "ABX9TyNitz4humwFpHmeLvEvRzf3",
      "include_colab_link": true
    },
    "kernelspec": {
      "name": "python3",
      "display_name": "Python 3"
    }
  },
  "cells": [
    {
      "cell_type": "markdown",
      "metadata": {
        "id": "view-in-github",
        "colab_type": "text"
      },
      "source": [
        "<a href=\"https://colab.research.google.com/github/damopea94/damop/blob/master/Assignment_1_.ipynb\" target=\"_parent\"><img src=\"https://colab.research.google.com/assets/colab-badge.svg\" alt=\"Open In Colab\"/></a>"
      ]
    },
    {
      "cell_type": "code",
      "metadata": {
        "id": "h3zW655hdbll",
        "colab_type": "code",
        "outputId": "9b513373-ca60-46b7-e46c-571a6b5a8a35",
        "colab": {
          "base_uri": "https://localhost:8080/",
          "height": 34
        }
      },
      "source": [
        "A = 'All'\n",
        "W = 'work'\n",
        "c = 'and'\n",
        "n = 'no'\n",
        "p = 'play'\n",
        "m = 'make'\n",
        "j = 'Jack'\n",
        "a = 'a'\n",
        "d = 'dull'\n",
        "b = 'boy'\n",
        "Sentence = A+ ' ' +W + ' ' + c +' ' +n + ' '+ p+ ' '+m+ ' '+j+' '+a+' '+d+' '+b\n",
        "print(Sentence)"
      ],
      "execution_count": 0,
      "outputs": [
        {
          "output_type": "stream",
          "text": [
            "All work and no play make Jack a dull boy\n"
          ],
          "name": "stdout"
        }
      ]
    },
    {
      "cell_type": "code",
      "metadata": {
        "id": "EMhMD7lIdgwd",
        "colab_type": "code",
        "outputId": "76ba9c9f-f6e1-48ec-d7e9-ec2f35fe799e",
        "colab": {
          "base_uri": "https://localhost:8080/",
          "height": 34
        }
      },
      "source": [
        "a=2\n",
        "b=4\n",
        "S= 3.14*(1+a/b)**3\n",
        "print(S)"
      ],
      "execution_count": 0,
      "outputs": [
        {
          "output_type": "stream",
          "text": [
            "10.5975\n"
          ],
          "name": "stdout"
        }
      ]
    }
  ]
}