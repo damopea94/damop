{
  "nbformat": 4,
  "nbformat_minor": 0,
  "metadata": {
    "colab": {
      "name": "assignment 7",
      "provenance": [],
      "authorship_tag": "ABX9TyPqYBpSlIyqEIurfNyxijLb",
      "include_colab_link": true
    },
    "kernelspec": {
      "name": "python3",
      "display_name": "Python 3"
    }
  },
  "cells": [
    {
      "cell_type": "markdown",
      "metadata": {
        "id": "view-in-github",
        "colab_type": "text"
      },
      "source": [
        "<a href=\"https://colab.research.google.com/github/damopea94/damop/blob/master/assignment_7.ipynb\" target=\"_parent\"><img src=\"https://colab.research.google.com/assets/colab-badge.svg\" alt=\"Open In Colab\"/></a>"
      ]
    },
    {
      "cell_type": "code",
      "metadata": {
        "id": "WWma17Mr_9Eh",
        "colab_type": "code",
        "outputId": "a1fc9407-24db-439e-f5ee-5ef729ae5508",
        "colab": {
          "base_uri": "https://localhost:8080/",
          "height": 34
        }
      },
      "source": [
        "def func(n):\n",
        "# nested list of depth 5\n",
        "    li=[1,2,[2,3,4,[3,4,4,4,[4,5,[4,5]]]]]\n",
        "  \n",
        "# convert the list to string and set counter to zero\n",
        "    li=str(li)\n",
        "    c=0\n",
        "  \n",
        "# iterate through the string\n",
        "    for i in range(len(li)):\n",
        "# if the number is a digit and its value is ch then this is very interesting\n",
        "        if li[i].isdigit()==True and int(li[i])==4:\n",
        "# increment the counter\n",
        "            c=c+1\n",
        "  \n",
        "# print the result\n",
        "    print(\"The number \"+str(n)+\" appears \"+str(c)+\" times\")\n",
        "  \n",
        "func(4)\n",
        "\n"
      ],
      "execution_count": 2,
      "outputs": [
        {
          "output_type": "stream",
          "text": [
            "The number 4 appears 6 times\n"
          ],
          "name": "stdout"
        }
      ]
    }
  ]
}